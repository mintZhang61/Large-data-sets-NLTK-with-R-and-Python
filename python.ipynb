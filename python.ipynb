{
 "cells": [
  {
   "cell_type": "code",
   "execution_count": 1,
   "metadata": {},
   "outputs": [
    {
     "name": "stderr",
     "output_type": "stream",
     "text": [
      "E:\\Anaconda\\lib\\site-packages\\sklearn\\cross_validation.py:41: DeprecationWarning: This module was deprecated in version 0.18 in favor of the model_selection module into which all the refactored classes and functions are moved. Also note that the interface of the new CV iterators are different from that of this module. This module will be removed in 0.20.\n",
      "  \"This module will be removed in 0.20.\", DeprecationWarning)\n"
     ]
    }
   ],
   "source": [
    "import nltk\n",
    "import os\n",
    "from nltk.tokenize import RegexpTokenizer\n",
    "from nltk import FreqDist\n",
    "import re\n",
    "import codecs\n",
    "\n",
    "from sklearn.feature_extraction.text import CountVectorizer\n",
    "import nltk, re, string, collections\n",
    "from nltk.util import ngrams # function for making ngrams\n",
    "import pandas as pd\n",
    "\n",
    "\n",
    "from sklearn import feature_extraction\n",
    "from sklearn.feature_extraction.text import TfidfTransformer\n",
    "from sklearn.feature_extraction.text import CountVectorizer\n",
    "\n",
    "import numpy as np\n",
    "\n",
    "from collections import Counter\n",
    "from nltk.corpus import stopwords\n",
    "\n",
    "from sklearn import svm\n",
    "from sklearn.cross_validation import KFold\n",
    "\n",
    "from sklearn.feature_extraction.text import TfidfVectorizer"
   ]
  },
  {
   "cell_type": "code",
   "execution_count": 2,
   "metadata": {},
   "outputs": [],
   "source": [
    "txt_file_path = \"testing_docs.txt\"\n",
    "stop_set = stopwords.words(\"english\")\n",
    "\n",
    "tokenizer = RegexpTokenizer(r\"\\w+(?:[-']\\w+)?\")\n",
    "def Output_Text(file):\n",
    "    file_object = open(file, \"r\",encoding='utf-8')\n",
    "    lines = file_object.readlines()\n",
    "\n",
    "    text = []\n",
    "    for item in lines:\n",
    "        \n",
    "        if \"TEXT\" in item:\n",
    "            item = item.strip().lower()\n",
    "            item = item.replace(\"\\'\", \"'\")\n",
    "            text.append(item)\n",
    "\n",
    "    file_object.close()\n",
    "    \n",
    "    return(text)\n",
    "\n",
    "text = Output_Text(txt_file_path)   \n",
    "  "
   ]
  },
  {
   "cell_type": "code",
   "execution_count": 2,
   "metadata": {},
   "outputs": [],
   "source": [
    "txt_file_path = \"training_docs.txt\"\n",
    "stop_set = stopwords.words(\"english\")\n",
    "\n",
    "tokenizer = RegexpTokenizer(r\"\\w+(?:[-']\\w+)?\")\n",
    "def Output_Text(file):\n",
    "    file_object = open(file, \"r\",encoding='utf-8')\n",
    "    lines = file_object.readlines()\n",
    "\n",
    "    text = []\n",
    "    for item in lines:\n",
    "        \n",
    "        if \"TEXT\" in item:\n",
    "            item = item.strip().lower()\n",
    "            item = item.replace(\"\\'\", \"'\")\n",
    "            text.append(item)\n",
    "\n",
    "    file_object.close()\n",
    "    \n",
    "    return(text)\n",
    "\n",
    "text = Output_Text(txt_file_path) "
   ]
  },
  {
   "cell_type": "code",
   "execution_count": 3,
   "metadata": {},
   "outputs": [],
   "source": [
    "label = (pd.read_csv(\"label.csv\", usecols=[1]))\n",
    "label = np.array(label).tolist()\n",
    "\n",
    "key = []\n",
    "for i in range(len(label)):\n",
    "    key.append(label[i][0])"
   ]
  },
  {
   "cell_type": "code",
   "execution_count": 4,
   "metadata": {},
   "outputs": [
    {
     "data": {
      "text/plain": [
       "(106445, 2542)"
      ]
     },
     "execution_count": 4,
     "metadata": {},
     "output_type": "execute_result"
    }
   ],
   "source": [
    "vec = CountVectorizer(min_df=0.003, ngram_range=(2,1),stop_words=\"english\",token_pattern=u'(?u)\\\\b[^\\\\d\\\\W]\\\\w+\\\\b',max_df=0.95)\n",
    "# X = vec.fit_transform(text) # transform text to metrix\n",
    "\n",
    "# print(vec.get_feature_names())\n",
    "\n",
    "# count_vect = CountVectorizer()\n",
    "X_train_counts = vec.fit_transform(text)\n",
    "# X_train_counts.shape\n",
    "\n",
    "\n",
    "tfidf_transformer = TfidfTransformer(norm=\"l2\")\n",
    "X_train_tfidf = tfidf_transformer.fit_transform(X_train_counts)\n",
    "X_train_tfidf.shape"
   ]
  },
  {
   "cell_type": "code",
   "execution_count": 5,
   "metadata": {
    "scrolled": true
   },
   "outputs": [
    {
     "name": "stdout",
     "output_type": "stream",
     "text": [
      "['aap', 'abbott', 'abc', 'ability', 'able', 'aboriginal', 'absence', 'absolutely', 'abuse', 'accept', 'accepted', 'access', 'accident', 'accidents', 'according', 'account', 'accused', 'achieve', 'achieved', 'act', 'acting', 'action', 'actions', 'activities', 'activity', 'actor', 'actress', 'actually', 'adam', 'add', 'added', 'adding', 'additional', 'address', 'adelaide', 'administration', 'admitted', 'advanced', 'advantage', 'advertising', 'advice', 'advised', 'aedt', 'aest', 'affairs', 'affect', 'affected', 'afghan', 'afghanistan', 'afp', 'africa', 'african', 'afternoon', 'agassi', 'age', 'aged', 'agencies', 'agency', 'aggressive', 'ago', 'agree', 'agreed', 'agreement', 'agriculture', 'ahead', 'aid', 'aimed', 'air', 'aircraft', 'airline', 'airlines', 'airport', 'al', 'alan', 'alcohol', 'alert', 'alex', 'alice', 'alive', 'allegations', 'alleged', 'allegedly', 'allow', 'allowed', 'allowing', 'alongside', 'alp', 'alternative', 'amazing', 'ambulance', 'america', 'american', 'americans', 'amid', 'anderson', 'andrew', 'andy', 'angeles', 'angry', 'animal', 'animals', 'ankle', 'anna', 'anniversary', 'announced', 'announcement', 'annual', 'answer', 'anthony', 'anti', 'apart', 'appeal', 'appear', 'appearance', 'appeared', 'appears', 'application', 'apply', 'appointed', 'approach', 'appropriate', 'approval', 'approved', 'april', 'area', 'areas', 'aren', 'argentina', 'arm', 'armed', 'army', 'arrangements', 'arrest', 'arrested', 'arrive', 'arrived', 'arsenal', 'art', 'arts', 'ashes', 'asia', 'asian', 'aside', 'ask', 'asked', 'asking', 'assault', 'assessment', 'assets', 'assist', 'assistance', 'assistant', 'associated', 'association', 'asylum', 'athens', 'atp', 'attack', 'attacked', 'attacking', 'attacks', 'attempt', 'attempted', 'attempts', 'attend', 'attended', 'attention', 'attorney', 'august', 'australia', 'australian', 'australians', 'authorities', 'authority', 'available', 'average', 'avoid', 'award', 'awarded', 'awards', 'aware', 'away', 'baby', 'backed', 'bad', 'badly', 'baghdad', 'bail', 'balance', 'bali', 'ball', 'balls', 'ban', 'band', 'bangladesh', 'bank', 'banks', 'banned', 'bar', 'barcelona', 'barnett', 'barry', 'base', 'based', 'basically', 'basin', 'basis', 'bat', 'batsman', 'batting', 'battle', 'battling', 'bay', 'beach', 'beat', 'beaten', 'beating', 'beattie', 'began', 'begin', 'beginning', 'begun', 'behaviour', 'beijing', 'belgian', 'believe', 'believed', 'believes', 'ben', 'bench', 'bendigo', 'benefit', 'benefits', 'bennett', 'best', 'better', 'bhp', 'bid', 'big', 'bigger', 'biggest', 'billion', 'bin', 'bird', 'birds', 'birth', 'bit', 'black', 'blame', 'blamed', 'blast', 'blaze', 'bligh', 'block', 'blood', 'blow', 'blue', 'blues', 'board', 'boat', 'boats', 'bob', 'bodies', 'body', 'bomb', 'bombing', 'bombings', 'book', 'boost', 'border', 'born', 'boss', 'bought', 'bowled', 'bowler', 'bowlers', 'bowling', 'box', 'boy', 'boys', 'brad', 'brain', 'brazil', 'break', 'breaking', 'breaks', 'breeding', 'brett', 'brian', 'bridge', 'bring', 'bringing', 'brisbane', 'britain', 'british', 'broke', 'broken', 'broncos', 'brother', 'brought', 'brown', 'bruce', 'budget', 'build', 'building', 'buildings', 'built', 'bulldogs', 'bureau', 'burn', 'burning', 'burns', 'burnt', 'bus', 'bush', 'bushfire', 'bushfires', 'business', 'businesses', 'busy', 'buy', 'buying', 'cabinet', 'cairns', 'california', 'called', 'calling', 'calls', 'came', 'cameron', 'camp', 'campaign', 'campbell', 'canada', 'canberra', 'cancelled', 'cancer', 'candidate', 'candidates', 'cap', 'capacity', 'capital', 'captain', 'car', 'carbon', 'card', 'care', 'career', 'carlos', 'carried', 'carry', 'carrying', 'cars', 'case', 'cases', 'cash', 'catch', 'cattle', 'caught', 'cause', 'caused', 'causing', 'cent', 'central', 'centre', 'centres', 'cents', 'century', 'ceo', 'ceremony', 'certain', 'certainly', 'cfa', 'chairman', 'challenge', 'challenges', 'champion', 'champions', 'championship', 'championships', 'chance', 'chances', 'change', 'changed', 'changes', 'changing', 'channel', 'charge', 'charged', 'charges', 'check', 'chelsea', 'chief', 'child', 'children', 'china', 'chinese', 'choice', 'chris', 'christian', 'christmas', 'church', 'circumstances', 'cities', 'city', 'civil', 'claim', 'claimed', 'claiming', 'claims', 'clarke', 'clash', 'class', 'clay', 'clean', 'clear', 'cleared', 'clearly', 'clijsters', 'climate', 'close', 'closed', 'closely', 'closer', 'closing', 'closure', 'club', 'clubs', 'coach', 'coal', 'coalition', 'coast', 'coastal', 'code', 'cold', 'colin', 'collapse', 'collapsed', 'colleagues', 'collided', 'combined', 'come', 'comeback', 'comes', 'comfortable', 'coming', 'comment', 'comments', 'commercial', 'commission', 'commissioner', 'commitment', 'committed', 'committee', 'common', 'commonwealth', 'communications', 'communities', 'community', 'companies', 'company', 'compared', 'compatriot', 'compensation', 'compete', 'competition', 'competitive', 'complaints', 'complete', 'completed', 'completely', 'complex', 'computer', 'concern', 'concerned', 'concerns', 'condition', 'conditions', 'conduct', 'conducted', 'conference', 'confidence', 'confident', 'confirm', 'confirmed', 'consecutive', 'conservation', 'consider', 'considered', 'considering', 'construction', 'consultation', 'consumer', 'consumers', 'contact', 'contain', 'contained', 'containment', 'content', 'contest', 'continue', 'continued', 'continues', 'continuing', 'contract', 'control', 'controlled', 'controversial', 'convicted', 'cooper', 'corner', 'coroner', 'corporation', 'corruption', 'cost', 'costs', 'couldn', 'council', 'councillor', 'councils', 'count', 'counter', 'countries', 'country', 'county', 'couple', 'course', 'court', 'courts', 'cover', 'covered', 'cowboys', 'craig', 'crash', 'crashed', 'create', 'created', 'credit', 'creek', 'crew', 'crews', 'cricket', 'crime', 'criminal', 'crisis', 'critical', 'criticised', 'criticism', 'crocodile', 'cronulla', 'cross', 'crossed', 'crossing', 'crowd', 'crown', 'crucial', 'culture', 'cup', 'current', 'currently', 'custody', 'customers', 'cut', 'cuts', 'cutting', 'cyclone', 'czech', 'daily', 'dam', 'damage', 'damaged', 'danger', 'dangerous', 'daniel', 'darling', 'darren', 'darwin', 'data', 'date', 'daughter', 'davenport', 'david', 'davis', 'day', 'days', 'dead', 'deadly', 'deal', 'dealing', 'death', 'deaths', 'debate', 'debt', 'debut', 'decade', 'decades', 'december', 'decide', 'decided', 'decision', 'decisions', 'declared', 'declined', 'deep', 'defeat', 'defeated', 'defence', 'defend', 'defended', 'defender', 'defending', 'definitely', 'delay', 'delayed', 'delays', 'deliberately', 'deliver', 'delivered', 'delivery', 'demand', 'democracy', 'democratic', 'denied', 'department', 'deputy', 'described', 'designed', 'desperate', 'despite', 'destroyed', 'details', 'detained', 'detention', 'determine', 'determined', 'devastating', 'develop', 'developed', 'developing', 'development', 'did', 'didn', 'die', 'died', 'difference', 'different', 'difficult', 'direct', 'direction', 'directly', 'director', 'disappointed', 'disappointing', 'disaster', 'discovered', 'discuss', 'discussions', 'disease', 'dismissed', 'display', 'dispute', 'district', 'division', 'djokovic', 'doctor', 'doctors', 'documents', 'does', 'doesn', 'dog', 'dogs', 'doing', 'dollar', 'dollars', 'domestic', 'dominated', 'don', 'door', 'double', 'doubles', 'doubt', 'dozens', 'dr', 'draft', 'dragons', 'draw', 'drawn', 'dream', 'drew', 'drink', 'drinking', 'drive', 'driven', 'driver', 'drivers', 'driving', 'drop', 'dropped', 'drought', 'drug', 'drugs', 'dry', 'dutch', 'duty', 'eagles', 'earlier', 'early', 'earned', 'earth', 'earthquake', 'easier', 'easily', 'east', 'eastern', 'easy', 'economic', 'economy', 'edge', 'education', 'eels', 'effect', 'effective', 'effectively', 'effects', 'effort', 'efforts', 'eighth', 'elected', 'election', 'elections', 'electoral', 'electorate', 'electricity', 'embassy', 'emergency', 'emissions', 'employees', 'employment', 'encourage', 'end', 'ended', 'ending', 'energy', 'england', 'english', 'enjoy', 'enjoyed', 'ensure', 'enter', 'entered', 'entertainment', 'entire', 'environment', 'environmental', 'equipment', 'errors', 'escape', 'escaped', 'especially', 'establish', 'established', 'estimated', 'estimates', 'euro', 'europe', 'european', 'evacuated', 'evacuation', 'evening', 'event', 'events', 'eventually', 'everybody', 'evidence', 'ex', 'exactly', 'example', 'exchange', 'excited', 'exciting', 'executive', 'exercise', 'existing', 'expansion', 'expect', 'expected', 'expecting', 'expects', 'experience', 'experienced', 'expert', 'experts', 'explain', 'explosion', 'export', 'expressed', 'extend', 'extended', 'extent', 'extra', 'extreme', 'extremely', 'eye', 'face', 'facebook', 'faced', 'faces', 'facilities', 'facility', 'facing', 'fact', 'factor', 'failed', 'failing', 'failure', 'fair', 'fairly', 'fall', 'fallen', 'falling', 'falls', 'families', 'family', 'famous', 'fans', 'fantastic', 'far', 'farm', 'farmers', 'fast', 'fatal', 'father', 'favour', 'favourite', 'fc', 'fear', 'fears', 'february', 'federal', 'federation', 'federer', 'feel', 'feeling', 'feet', 'fell', 'fellow', 'felt', 'female', 'ferguson', 'festival', 'field', 'fifa', 'fifth', 'fight', 'fighting', 'figure', 'figures', 'film', 'films', 'final', 'finalist', 'finally', 'finals', 'finance', 'financial', 'finding', 'findings', 'fine', 'fined', 'finish', 'finished', 'finishing', 'fired', 'firefighters', 'fires', 'firm', 'fish', 'fishing', 'fit', 'fitness', 'fix', 'flash', 'flight', 'flights', 'flood', 'flooded', 'flooding', 'floods', 'floodwaters', 'flow', 'flown', 'flu', 'fly', 'flying', 'focus', 'focused', 'follow', 'followed', 'following', 'food', 'foot', 'football', 'force', 'forced', 'forces', 'forecast', 'forehand', 'foreign', 'forest', 'form', 'forum', 'forward', 'fought', 'foundation', 'fourth', 'france', 'frank', 'fraser', 'free', 'freedom', 'freight', 'french', 'frenchman', 'fresh', 'friday', 'friend', 'friendly', 'friends', 'fuel', 'fully', 'fund', 'funded', 'funding', 'funds', 'future', 'gain', 'gained', 'game', 'games', 'gap', 'gary', 'gas', 'gathered', 'gave', 'gay', 'general', 'generally', 'generation', 'geoff', 'george', 'german', 'germany', 'gets', 'getting', 'giant', 'gilchrist', 'gillard', 'gippsland', 'girl', 'girls', 'given', 'gives', 'giving', 'glenn', 'global', 'glory', 'goal', 'goalkeeper', 'goals', 'goes', 'going', 'gold', 'golden', 'gone', 'good', 'gordon', 'got', 'government', 'governments', 'governor', 'graham', 'grand', 'grandstand', 'grant', 'granted', 'grass', 'great', 'greater', 'greatest', 'green', 'greens', 'greg', 'ground', 'group', 'groups', 'grow', 'growing', 'growth', 'guard', 'guess', 'guilty', 'gulf', 'gunns', 'guy', 'guys', 'half', 'hall', 'hand', 'handed', 'handling', 'hands', 'happen', 'happened', 'happening', 'happens', 'happy', 'harbour', 'hard', 'hardenne', 'harm', 'harry', 'hasn', 'haven', 'having', 'hayden', 'head', 'headed', 'heading', 'heads', 'health', 'healthy', 'hear', 'heard', 'hearing', 'heart', 'heat', 'heavily', 'heavy', 'hectares', 'held', 'helicopter', 'help', 'helped', 'helping', 'henin', 'henry', 'heritage', 'hewitt', 'hicks', 'high', 'higher', 'highest', 'highly', 'highway', 'hill', 'hills', 'history', 'hit', 'hitting', 'hobart', 'hold', 'holding', 'holiday', 'home', 'homes', 'hong', 'honour', 'hope', 'hoped', 'hopeful', 'hopefully', 'hopes', 'hoping', 'horse', 'horses', 'hospital', 'hospitals', 'host', 'hosts', 'hot', 'hotel', 'hour', 'hours', 'house', 'houses', 'housing', 'howard', 'huge', 'human', 'hundreds', 'hunt', 'hunter', 'hurt', 'husband', 'hussey', 'ian', 'icc', 'ice', 'idea', 'identified', 'identify', 'ill', 'illawarra', 'illegal', 'illness', 'immediate', 'immediately', 'immigration', 'impact', 'important', 'impressive', 'improve', 'improved', 'improving', 'incident', 'incidents', 'include', 'included', 'includes', 'including', 'income', 'increase', 'increased', 'increases', 'increasing', 'independent', 'index', 'india', 'indian', 'indicated', 'indies', 'indigenous', 'individual', 'indonesia', 'indonesian', 'industrial', 'industries', 'industry', 'influence', 'information', 'infrastructure', 'initial', 'initially', 'injured', 'injuries', 'injury', 'innings', 'inquest', 'inquiry', 'inside', 'inspector', 'instead', 'institute', 'insurance', 'intelligence', 'inter', 'interested', 'interests', 'international', 'internet', 'interview', 'introduced', 'investigate', 'investigating', 'investigation', 'investigations', 'investigators', 'investment', 'investors', 'involved', 'involvement', 'involving', 'iran', 'iraq', 'iraqi', 'ireland', 'iron', 'islamic', 'island', 'islands', 'isn', 'isolated', 'israel', 'israeli', 'issue', 'issued', 'issues', 'italian', 'italy', 'jackson', 'jail', 'james', 'january', 'japan', 'japanese', 'jason', 'jets', 'jim', 'job', 'jobs', 'joe', 'john', 'johnson', 'join', 'joined', 'joint', 'jones', 'journalists', 'juan', 'judge', 'julia', 'july', 'jumped', 'june', 'just', 'justice', 'justin', 'kangaroos', 'keen', 'keeper', 'keeping', 'kelly', 'kept', 'kevin', 'key', 'kick', 'kids', 'kill', 'killed', 'killing', 'kilometre', 'kilometres', 'kim', 'kimberley', 'kind', 'king', 'knee', 'knew', 'knights', 'knocked', 'know', 'knowledge', 'known', 'knows', 'kong', 'korea', 'korean', 'labor', 'labour', 'lack', 'ladder', 'laden', 'laid', 'lake', 'land', 'lanka', 'large', 'largely', 'largest', 'late', 'later', 'latest', 'launch', 'launched', 'law', 'laws', 'lawyer', 'lawyers', 'lead', 'leader', 'leaders', 'leadership', 'leading', 'league', 'learn', 'leave', 'leaving', 'led', 'lee', 'left', 'leg', 'legal', 'legislation', 'let', 'letter', 'level', 'levels', 'liberal', 'liberals', 'licence', 'life', 'lift', 'lifted', 'light', 'lightning', 'like', 'likely', 'limit', 'limited', 'line', 'lines', 'link', 'linked', 'list', 'listed', 'little', 'live', 'lived', 'liverpool', 'lives', 'living', 'll', 'lleyton', 'local', 'locals', 'lockyer', 'london', 'long', 'longer', 'look', 'looked', 'looking', 'looks', 'lord', 'los', 'lose', 'losing', 'loss', 'losses', 'lost', 'lot', 'lots', 'love', 'low', 'lower', 'lucky', 'luke', 'lunch', 'lying', 'mackay', 'macquarie', 'madrid', 'magistrates', 'main', 'mainly', 'maintain', 'major', 'majority', 'make', 'makes', 'making', 'male', 'man', 'manage', 'managed', 'management', 'manager', 'managing', 'manchester', 'manly', 'march', 'maria', 'marine', 'mariners', 'mark', 'market', 'markets', 'marshall', 'martin', 'mary', 'mass', 'massive', 'masters', 'match', 'matches', 'mate', 'material', 'mates', 'matt', 'matter', 'matters', 'matthew', 'mauresmo', 'maximum', 'maybe', 'mayor', 'mcgrath', 'mean', 'means', 'meant', 'measure', 'measures', 'medal', 'media', 'medical', 'meet', 'meeting', 'meetings', 'melbourne', 'member', 'members', 'memorial', 'men', 'mental', 'message', 'messages', 'met', 'metre', 'metres', 'mexico', 'michael', 'mid', 'middle', 'midfielder', 'mike', 'milan', 'militants', 'military', 'millimetres', 'million', 'millions', 'mind', 'miners', 'mining', 'minister', 'ministers', 'ministry', 'minor', 'minute', 'minutes', 'miss', 'missed', 'missing', 'mission', 'mistake', 'mitchell', 'mixed', 'mobile', 'model', 'molik', 'moment', 'monday', 'money', 'monitor', 'monitoring', 'month', 'months', 'moore', 'morning', 'morris', 'mother', 'motorists', 'mount', 'mountain', 'moved', 'movement', 'moves', 'movie', 'moving', 'mp', 'mps', 'mr', 'ms', 'multi', 'murder', 'murdoch', 'murray', 'museum', 'music', 'muslim', 'nadal', 'named', 'names', 'nathan', 'nation', 'national', 'nationals', 'nations', 'native', 'natural', 'nature', 'near', 'nearby', 'nearly', 'necessary', 'need', 'needed', 'needs', 'negotiations', 'neil', 'net', 'network', 'new', 'newcastle', 'newman', 'news', 'newspaper', 'newspapers', 'nice', 'nick', 'night', 'ninth', 'non', 'normal', 'normally', 'north', 'northern', 'notice', 'november', 'nrl', 'nsw', 'nuclear', 'number', 'numbers', 'nurses', 'obama', 'obviously', 'occurred', 'ocean', 'october', 'offences', 'offer', 'offered', 'offering', 'office', 'officer', 'officers', 'official', 'officially', 'officials', 'oil', 'old', 'older', 'olympic', 'olympics', 'ones', 'ongoing', 'online', 'open', 'opened', 'opener', 'opening', 'operate', 'operating', 'operation', 'operations', 'operator', 'operators', 'opinion', 'opponent', 'opportunities', 'opportunity', 'opposition', 'option', 'options', 'order', 'ordered', 'ore', 'organisation', 'organisations', 'organisers', 'origin', 'original', 'outbreak', 'outcome', 'outside', 'outstanding', 'oval', 'overall', 'overnight', 'overs', 'overseas', 'owned', 'owner', 'owners', 'pace', 'pacific', 'package', 'page', 'paid', 'pain', 'pair', 'pakistan', 'pakistani', 'panel', 'panthers', 'paper', 'parents', 'paris', 'park', 'parks', 'parliament', 'parliamentary', 'parramatta', 'particular', 'particularly', 'parties', 'partner', 'partnership', 'parts', 'party', 'pass', 'passed', 'passenger', 'passengers', 'passing', 'past', 'path', 'patient', 'patients', 'paul', 'pay', 'paying', 'payments', 'peace', 'peak', 'penalty', 'peninsula', 'penrith', 'people', 'perfect', 'performance', 'period', 'permanent', 'person', 'personal', 'perth', 'peter', 'phil', 'philippoussis', 'phone', 'physical', 'pick', 'picked', 'picture', 'piece', 'pilot', 'pitch', 'place', 'placed', 'places', 'plan', 'plane', 'planned', 'planning', 'plans', 'plant', 'play', 'played', 'player', 'players', 'playing', 'plays', 'pleaded', 'pleased', 'plenty', 'point', 'points', 'police', 'policies', 'policy', 'political', 'politicians', 'politics', 'poll', 'polls', 'ponting', 'pool', 'poor', 'popular', 'population', 'port', 'position', 'positions', 'positive', 'possibility', 'possible', 'possibly', 'post', 'posted', 'potential', 'potentially', 'power', 'powerful', 'powers', 'practice', 'pre', 'predicted', 'premier', 'premiership', 'preparation', 'prepare', 'prepared', 'preparing', 'presence', 'present', 'presented', 'president', 'presidential', 'press', 'pressure', 'pretty', 'prevent', 'previous', 'previously', 'price', 'prices', 'primary', 'prime', 'prince', 'prior', 'priority', 'prison', 'private', 'prize', 'probably', 'problem', 'problems', 'process', 'produce', 'produced', 'product', 'production', 'products', 'professional', 'professor', 'profile', 'profit', 'program', 'programs', 'progress', 'project', 'projects', 'promise', 'promised', 'prop', 'proper', 'properly', 'properties', 'property', 'proposal', 'proposed', 'protect', 'protected', 'protection', 'protest', 'protesters', 'protests', 'proud', 'prove', 'proved', 'provide', 'provided', 'providing', 'province', 'public', 'published', 'pull', 'pulled', 'push', 'pushed', 'pushing', 'putting', 'qaeda', 'qantas', 'quake', 'qualifier', 'qualifying', 'quality', 'quarter', 'queen', 'queensland', 'question', 'questioned', 'questions', 'quick', 'quickly', 'quite', 'quot', 'quoted', 'race', 'racing', 'radio', 'rafael', 'raiders', 'rail', 'railway', 'rain', 'rainfall', 'rains', 'raise', 'raised', 'raising', 'rally', 'ran', 'range', 'ranked', 'ranking', 'rare', 'rate', 'rates', 'reach', 'reached', 'reaching', 'read', 'ready', 'real', 'realise', 'reality', 'really', 'reason', 'reasons', 'receive', 'received', 'receiving', 'recent', 'recently', 'recognised', 'recommendations', 'recommended', 'record', 'recorded', 'records', 'recover', 'recovered', 'recovery', 'red', 'reduce', 'reduced', 'reduction', 'referee', 'reform', 'refused', 'regime', 'region', 'regional', 'regions', 'regular', 'rejected', 'related', 'relation', 'relations', 'relationship', 'relatively', 'release', 'released', 'relief', 'remain', 'remained', 'remaining', 'remains', 'remember', 'remote', 'remove', 'removed', 'replace', 'replaced', 'report', 'reported', 'reportedly', 'reporters', 'reporting', 'reports', 'representative', 'representatives', 'republic', 'request', 'required', 'rescue', 'rescued', 'research', 'researchers', 'reserve', 'resident', 'residents', 'resort', 'resources', 'respect', 'respond', 'responded', 'response', 'responsibility', 'responsible', 'rest', 'restrictions', 'result', 'results', 'retail', 'retired', 'return', 'returned', 'returning', 'reuters', 'revealed', 'revenue', 'review', 'rfs', 'richard', 'ricky', 'right', 'rights', 'rio', 'rise', 'rising', 'risk', 'risks', 'rival', 'rivals', 'river', 'rivers', 'road', 'roads', 'roar', 'rob', 'robert', 'rock', 'rockhampton', 'roddick', 'roger', 'role', 'rolled', 'roof', 'room', 'roosters', 'rose', 'round', 'route', 'row', 'royal', 'rspca', 'rudd', 'rugby', 'rule', 'ruled', 'rules', 'ruling', 'run', 'runner', 'running', 'runs', 'rural', 'russia', 'russian', 'ryan', 'sa', 'safe', 'safety', 'safin', 'said', 'sale', 'sales', 'sam', 'sars', 'saturday', 'save', 'saved', 'saving', 'saw', 'say', 'saying', 'says', 'scale', 'scene', 'scheduled', 'scheme', 'school', 'schools', 'science', 'scientists', 'score', 'scored', 'scoring', 'scott', 'sea', 'search', 'season', 'seat', 'seats', 'second', 'seconds', 'secret', 'secretary', 'section', 'sector', 'secure', 'secured', 'security', 'seed', 'seeded', 'seeing', 'seek', 'seekers', 'seeking', 'seen', 'seized', 'selection', 'selectors', 'self', 'sell', 'selling', 'semi', 'senate', 'senator', 'send', 'sending', 'senior', 'sense', 'sent', 'sentence', 'sentenced', 'separate', 'september', 'serena', 'sergeant', 'series', 'seriously', 'serve', 'served', 'service', 'services', 'serving', 'ses', 'session', 'set', 'sets', 'setting', 'seven', 'seventh', 'severe', 'sex', 'sexual', 'shane', 'sharapova', 'share', 'shareholders', 'shares', 'shark', 'sharks', 'ship', 'shire', 'shock', 'shooting', 'short', 'shortly', 'shot', 'shots', 'shoulder', 'showed', 'showing', 'shown', 'shows', 'shut', 'sick', 'sides', 'sign', 'signed', 'significant', 'signing', 'signs', 'silver', 'similar', 'simon', 'simple', 'simply', 'singapore', 'singer', 'single', 'singles', 'sir', 'sister', 'sit', 'site', 'sites', 'sitting', 'situation', 'sixth', 'size', 'skills', 'skipper', 'sky', 'slam', 'slightly', 'slip', 'slow', 'small', 'smaller', 'smith', 'smoke', 'soccer', 'socceroos', 'social', 'society', 'sold', 'soldiers', 'solid', 'solution', 'son', 'soon', 'sort', 'sorts', 'sought', 'source', 'sources', 'south', 'southern', 'space', 'spain', 'spaniard', 'spanish', 'sparked', 'speak', 'speaking', 'special', 'specialist', 'species', 'specific', 'speculation', 'speech', 'speed', 'spend', 'spending', 'spent', 'spinner', 'spirit', 'spoke', 'spoken', 'spokesman', 'spokeswoman', 'sport', 'sporting', 'sports', 'spot', 'spread', 'springs', 'squad', 'square', 'sri', 'st', 'stable', 'stadium', 'staff', 'stage', 'stand', 'standard', 'standards', 'standing', 'stands', 'star', 'stars', 'start', 'started', 'starting', 'starts', 'state', 'statement', 'states', 'station', 'stations', 'status', 'stay', 'step', 'stephen', 'stepped', 'steps', 'steve', 'stewart', 'stock', 'stocks', 'stolen', 'stood', 'stop', 'stopped', 'store', 'stories', 'storm', 'storms', 'story', 'stosur', 'straight', 'stranded', 'strategy', 'street', 'streets', 'strength', 'strike', 'striker', 'strong', 'stronger', 'strongly', 'struck', 'struggled', 'struggling', 'stuart', 'student', 'students', 'studies', 'study', 'stuff', 'style', 'subject', 'suburb', 'suburbs', 'success', 'successful', 'suffered', 'suffering', 'suggest', 'suggested', 'suicide', 'summer', 'summit', 'sun', 'sunday', 'sunshine', 'super', 'supplies', 'supply', 'support', 'supported', 'supporters', 'supporting', 'supreme', 'sure', 'surface', 'surgery', 'surprise', 'surprised', 'surrounding', 'survey', 'survived', 'survivors', 'suspect', 'suspected', 'suspects', 'suspended', 'suspension', 'sustainability', 'swan', 'sweden', 'swept', 'swimming', 'swing', 'swiss', 'sydney', 'systems', 'table', 'tackle', 'taiwan', 'taken', 'takeover', 'takes', 'taking', 'taliban', 'talk', 'talking', 'talks', 'target', 'targeted', 'targets', 'task', 'tasmania', 'tasmanian', 'tax', 'taylor', 'team', 'teams', 'technology', 'teenager', 'television', 'tell', 'telling', 'telstra', 'temperatures', 'tennis', 'term', 'terms', 'territory', 'terror', 'terrorism', 'terrorist', 'terrorists', 'terry', 'test', 'tested', 'testing', 'tests', 'thailand', 'thank', 'thanks', 'thing', 'things', 'think', 'thinking', 'thomas', 'thompson', 'thought', 'thousands', 'threat', 'threatened', 'threatening', 'thrown', 'thursday', 'tibet', 'tie', 'tigers', 'tight', 'tim', 'time', 'times', 'titans', 'title', 'titles', 'today', 'todd', 'told', 'toll', 'tom', 'tomorrow', 'tonight', 'tonnes', 'tony', 'took', 'total', 'totally', 'touch', 'tough', 'tour', 'tourism', 'tourist', 'tourists', 'tournament', 'town', 'towns', 'townsville', 'track', 'trade', 'trading', 'traditional', 'traffic', 'tragedy', 'train', 'trained', 'training', 'trains', 'transfer', 'transport', 'trapped', 'travel', 'travelling', 'treasurer', 'treated', 'treatment', 'tree', 'trees', 'trial', 'tried', 'tries', 'trip', 'troops', 'trophy', 'trouble', 'truck', 'trucks', 'true', 'trust', 'try', 'trying', 'tuesday', 'turn', 'turnbull', 'turned', 'turning', 'tv', 'twice', 'type', 'uk', 'unable', 'unbeaten', 'understand', 'understanding', 'underway', 'unfortunately', 'union', 'unions', 'unit', 'united', 'university', 'unless', 'unlikely', 'upgrade', 'upper', 'upset', 'urged', 'urging', 'use', 'used', 'users', 'using', 'usually', 'valley', 'value', 'van', 'various', 've', 'vehicle', 'vehicles', 'venus', 'veteran', 'vice', 'victim', 'victims', 'victoria', 'victorian', 'victory', 'video', 'view', 'views', 'village', 'violence', 'violent', 'virus', 'visit', 'visited', 'visiting', 'visitors', 'vital', 'volunteers', 'vote', 'voted', 'voters', 'votes', 'voting', 'wa', 'wagga', 'wait', 'waiting', 'wake', 'wales', 'walk', 'walked', 'walking', 'wall', 'want', 'wanted', 'wants', 'war', 'warm', 'warne', 'warned', 'warning', 'warnings', 'warriors', 'washed', 'washington', 'wasn', 'waste', 'watch', 'watching', 'water', 'waters', 'watson', 'way', 'wayne', 'ways', 'weapons', 'wearing', 'weather', 'website', 'wednesday', 'week', 'weekend', 'weeks', 'welcome', 'welcomed', 'welfare', 'wellington', 'went', 'west', 'western', 'wet', 'whale', 'whales', 'whaling', 'wheel', 'white', 'wicket', 'wickets', 'wide', 'widespread', 'wife', 'wild', 'wildlife', 'william', 'williams', 'wimbledon', 'win', 'wind', 'winds', 'wing', 'winger', 'winner', 'winners', 'winning', 'wins', 'winter', 'wish', 'witnesses', 'woman', 'women', 'won', 'wonderful', 'word', 'words', 'work', 'worked', 'workers', 'working', 'works', 'world', 'worldwide', 'worried', 'worse', 'worst', 'worth', 'wouldn', 'wounded', 'written', 'wrong', 'wrote', 'wta', 'xinhua', 'year', 'years', 'yes', 'yesterday', 'york', 'young', 'youth', 'zealand', 'zimbabwe', 'zone', 'zoo']\n"
     ]
    }
   ],
   "source": [
    "print(vec.get_feature_names())"
   ]
  },
  {
   "cell_type": "code",
   "execution_count": 6,
   "metadata": {},
   "outputs": [
    {
     "data": {
      "text/plain": [
       "0.7199868476678096"
      ]
     },
     "execution_count": 6,
     "metadata": {},
     "output_type": "execute_result"
    }
   ],
   "source": [
    "from sklearn.naive_bayes import MultinomialNB\n",
    "clf = MultinomialNB().fit(X_train_tfidf, key)\n",
    "\n",
    "predicted = clf.predict(X_train_tfidf)\n",
    "\n",
    "np.mean(predicted == key)"
   ]
  },
  {
   "cell_type": "code",
   "execution_count": 7,
   "metadata": {},
   "outputs": [
    {
     "name": "stderr",
     "output_type": "stream",
     "text": [
      "E:\\Anaconda\\lib\\site-packages\\sklearn\\linear_model\\stochastic_gradient.py:117: DeprecationWarning: n_iter parameter is deprecated in 0.19 and will be removed in 0.21. Use max_iter and tol instead.\n",
      "  DeprecationWarning)\n"
     ]
    },
    {
     "data": {
      "text/plain": [
       "0.7152238245103105"
      ]
     },
     "execution_count": 7,
     "metadata": {},
     "output_type": "execute_result"
    }
   ],
   "source": [
    "from sklearn.linear_model import SGDClassifier\n",
    "clf_svm = SGDClassifier(loss='hinge', \n",
    "                        penalty='l2',alpha=1e-3,\n",
    "                        n_iter=5, random_state=42).fit(X_train_tfidf, key)\n",
    "\n",
    "\n",
    "predicted_svm = clf_svm.predict(X_train_tfidf)\n",
    "\n",
    "np.mean(predicted_svm == key)"
   ]
  },
  {
   "cell_type": "code",
   "execution_count": 15,
   "metadata": {},
   "outputs": [],
   "source": [
    "clf = svm.SVC(kernel='linear', C=1).fit(X_train_tfidf, key)"
   ]
  },
  {
   "cell_type": "code",
   "execution_count": null,
   "metadata": {},
   "outputs": [],
   "source": [
    "clf.score(X_train_tfidf, key)"
   ]
  },
  {
   "cell_type": "code",
   "execution_count": null,
   "metadata": {},
   "outputs": [],
   "source": [
    "from sklearn.model_selection import cross_val_score\n",
    "clf = svm.SVC(kernel='linear', C=1)\n",
    "scores = cross_val_score(clf, X_train_tfidf, key, cv=5)"
   ]
  },
  {
   "cell_type": "code",
   "execution_count": 8,
   "metadata": {},
   "outputs": [
    {
     "data": {
      "text/html": [
       "<div>\n",
       "<style scoped>\n",
       "    .dataframe tbody tr th:only-of-type {\n",
       "        vertical-align: middle;\n",
       "    }\n",
       "\n",
       "    .dataframe tbody tr th {\n",
       "        vertical-align: top;\n",
       "    }\n",
       "\n",
       "    .dataframe thead th {\n",
       "        text-align: right;\n",
       "    }\n",
       "</style>\n",
       "<table border=\"1\" class=\"dataframe\">\n",
       "  <thead>\n",
       "    <tr style=\"text-align: right;\">\n",
       "      <th></th>\n",
       "      <th>aap</th>\n",
       "      <th>abbott</th>\n",
       "      <th>abc</th>\n",
       "      <th>ability</th>\n",
       "      <th>able</th>\n",
       "      <th>aboriginal</th>\n",
       "      <th>absence</th>\n",
       "      <th>absolutely</th>\n",
       "      <th>abuse</th>\n",
       "      <th>accept</th>\n",
       "      <th>...</th>\n",
       "      <th>years</th>\n",
       "      <th>yes</th>\n",
       "      <th>yesterday</th>\n",
       "      <th>york</th>\n",
       "      <th>young</th>\n",
       "      <th>youth</th>\n",
       "      <th>zealand</th>\n",
       "      <th>zimbabwe</th>\n",
       "      <th>zone</th>\n",
       "      <th>zoo</th>\n",
       "    </tr>\n",
       "  </thead>\n",
       "  <tbody>\n",
       "    <tr>\n",
       "      <th>0</th>\n",
       "      <td>0.0</td>\n",
       "      <td>0.0</td>\n",
       "      <td>0.0</td>\n",
       "      <td>0.0</td>\n",
       "      <td>0.0</td>\n",
       "      <td>0.0</td>\n",
       "      <td>0.0</td>\n",
       "      <td>0.0</td>\n",
       "      <td>0.0</td>\n",
       "      <td>0.0</td>\n",
       "      <td>...</td>\n",
       "      <td>0.0</td>\n",
       "      <td>0.0</td>\n",
       "      <td>0.000000</td>\n",
       "      <td>0.0</td>\n",
       "      <td>0.174018</td>\n",
       "      <td>0.0</td>\n",
       "      <td>0.0</td>\n",
       "      <td>0.0</td>\n",
       "      <td>0.0</td>\n",
       "      <td>0.0</td>\n",
       "    </tr>\n",
       "    <tr>\n",
       "      <th>1</th>\n",
       "      <td>0.0</td>\n",
       "      <td>0.0</td>\n",
       "      <td>0.0</td>\n",
       "      <td>0.0</td>\n",
       "      <td>0.0</td>\n",
       "      <td>0.0</td>\n",
       "      <td>0.0</td>\n",
       "      <td>0.0</td>\n",
       "      <td>0.0</td>\n",
       "      <td>0.0</td>\n",
       "      <td>...</td>\n",
       "      <td>0.0</td>\n",
       "      <td>0.0</td>\n",
       "      <td>0.000000</td>\n",
       "      <td>0.0</td>\n",
       "      <td>0.000000</td>\n",
       "      <td>0.0</td>\n",
       "      <td>0.0</td>\n",
       "      <td>0.0</td>\n",
       "      <td>0.0</td>\n",
       "      <td>0.0</td>\n",
       "    </tr>\n",
       "    <tr>\n",
       "      <th>2</th>\n",
       "      <td>0.0</td>\n",
       "      <td>0.0</td>\n",
       "      <td>0.0</td>\n",
       "      <td>0.0</td>\n",
       "      <td>0.0</td>\n",
       "      <td>0.0</td>\n",
       "      <td>0.0</td>\n",
       "      <td>0.0</td>\n",
       "      <td>0.0</td>\n",
       "      <td>0.0</td>\n",
       "      <td>...</td>\n",
       "      <td>0.0</td>\n",
       "      <td>0.0</td>\n",
       "      <td>0.000000</td>\n",
       "      <td>0.0</td>\n",
       "      <td>0.000000</td>\n",
       "      <td>0.0</td>\n",
       "      <td>0.0</td>\n",
       "      <td>0.0</td>\n",
       "      <td>0.0</td>\n",
       "      <td>0.0</td>\n",
       "    </tr>\n",
       "    <tr>\n",
       "      <th>3</th>\n",
       "      <td>0.0</td>\n",
       "      <td>0.0</td>\n",
       "      <td>0.0</td>\n",
       "      <td>0.0</td>\n",
       "      <td>0.0</td>\n",
       "      <td>0.0</td>\n",
       "      <td>0.0</td>\n",
       "      <td>0.0</td>\n",
       "      <td>0.0</td>\n",
       "      <td>0.0</td>\n",
       "      <td>...</td>\n",
       "      <td>0.0</td>\n",
       "      <td>0.0</td>\n",
       "      <td>0.098539</td>\n",
       "      <td>0.0</td>\n",
       "      <td>0.000000</td>\n",
       "      <td>0.0</td>\n",
       "      <td>0.0</td>\n",
       "      <td>0.0</td>\n",
       "      <td>0.0</td>\n",
       "      <td>0.0</td>\n",
       "    </tr>\n",
       "    <tr>\n",
       "      <th>4</th>\n",
       "      <td>0.0</td>\n",
       "      <td>0.0</td>\n",
       "      <td>0.0</td>\n",
       "      <td>0.0</td>\n",
       "      <td>0.0</td>\n",
       "      <td>0.0</td>\n",
       "      <td>0.0</td>\n",
       "      <td>0.0</td>\n",
       "      <td>0.0</td>\n",
       "      <td>0.0</td>\n",
       "      <td>...</td>\n",
       "      <td>0.0</td>\n",
       "      <td>0.0</td>\n",
       "      <td>0.000000</td>\n",
       "      <td>0.0</td>\n",
       "      <td>0.000000</td>\n",
       "      <td>0.0</td>\n",
       "      <td>0.0</td>\n",
       "      <td>0.0</td>\n",
       "      <td>0.0</td>\n",
       "      <td>0.0</td>\n",
       "    </tr>\n",
       "  </tbody>\n",
       "</table>\n",
       "<p>5 rows × 2542 columns</p>\n",
       "</div>"
      ],
      "text/plain": [
       "   aap  abbott  abc  ability  able  aboriginal  absence  absolutely  abuse  \\\n",
       "0  0.0     0.0  0.0      0.0   0.0         0.0      0.0         0.0    0.0   \n",
       "1  0.0     0.0  0.0      0.0   0.0         0.0      0.0         0.0    0.0   \n",
       "2  0.0     0.0  0.0      0.0   0.0         0.0      0.0         0.0    0.0   \n",
       "3  0.0     0.0  0.0      0.0   0.0         0.0      0.0         0.0    0.0   \n",
       "4  0.0     0.0  0.0      0.0   0.0         0.0      0.0         0.0    0.0   \n",
       "\n",
       "   accept ...   years  yes  yesterday  york     young  youth  zealand  \\\n",
       "0     0.0 ...     0.0  0.0   0.000000   0.0  0.174018    0.0      0.0   \n",
       "1     0.0 ...     0.0  0.0   0.000000   0.0  0.000000    0.0      0.0   \n",
       "2     0.0 ...     0.0  0.0   0.000000   0.0  0.000000    0.0      0.0   \n",
       "3     0.0 ...     0.0  0.0   0.098539   0.0  0.000000    0.0      0.0   \n",
       "4     0.0 ...     0.0  0.0   0.000000   0.0  0.000000    0.0      0.0   \n",
       "\n",
       "   zimbabwe  zone  zoo  \n",
       "0       0.0   0.0  0.0  \n",
       "1       0.0   0.0  0.0  \n",
       "2       0.0   0.0  0.0  \n",
       "3       0.0   0.0  0.0  \n",
       "4       0.0   0.0  0.0  \n",
       "\n",
       "[5 rows x 2542 columns]"
      ]
     },
     "execution_count": 8,
     "metadata": {},
     "output_type": "execute_result"
    }
   ],
   "source": [
    "df = pd.DataFrame(X_train_tfidf.toarray(), columns=vec.get_feature_names()) # to DataFrame\n",
    "df.head()"
   ]
  },
  {
   "cell_type": "code",
   "execution_count": 9,
   "metadata": {
    "scrolled": true
   },
   "outputs": [],
   "source": [
    "df.to_csv(\"newtfidf1.csv\",index=False,sep=',')"
   ]
  },
  {
   "cell_type": "code",
   "execution_count": null,
   "metadata": {},
   "outputs": [],
   "source": [
    "TfidfVectorizer()"
   ]
  }
 ],
 "metadata": {
  "kernelspec": {
   "display_name": "Python 3",
   "language": "python",
   "name": "python3"
  },
  "language_info": {
   "codemirror_mode": {
    "name": "ipython",
    "version": 3
   },
   "file_extension": ".py",
   "mimetype": "text/x-python",
   "name": "python",
   "nbconvert_exporter": "python",
   "pygments_lexer": "ipython3",
   "version": "3.6.4"
  }
 },
 "nbformat": 4,
 "nbformat_minor": 2
}
