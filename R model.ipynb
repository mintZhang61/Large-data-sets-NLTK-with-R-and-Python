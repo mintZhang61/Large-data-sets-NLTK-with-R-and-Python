{
 "cells": [
  {
   "cell_type": "markdown",
   "metadata": {},
   "source": [
    "### Library for model"
   ]
  },
  {
   "cell_type": "code",
   "execution_count": 1,
   "metadata": {
    "scrolled": true
   },
   "outputs": [
    {
     "name": "stderr",
     "output_type": "stream",
     "text": [
      "Warning message:\n",
      "\"package 'caret' was built under R version 3.4.4\"Loading required package: lattice\n",
      "Loading required package: ggplot2\n",
      "Warning message:\n",
      "\"package 'ggplot2' was built under R version 3.4.4\"Warning message:\n",
      "\"package 'e1071' was built under R version 3.4.4\"Warning message:\n",
      "\"package 'bigmemory' was built under R version 3.4.4\""
     ]
    },
    {
     "data": {
      "text/html": [
       "102400"
      ],
      "text/latex": [
       "102400"
      ],
      "text/markdown": [
       "102400"
      ],
      "text/plain": [
       "[1] 102400"
      ]
     },
     "metadata": {},
     "output_type": "display_data"
    },
    {
     "data": {
      "text/html": [
       "177.89"
      ],
      "text/latex": [
       "177.89"
      ],
      "text/markdown": [
       "177.89"
      ],
      "text/plain": [
       "[1] 177.89"
      ]
     },
     "metadata": {},
     "output_type": "display_data"
    }
   ],
   "source": [
    "library(caret)\n",
    "# svm package\n",
    "library(e1071)\n",
    "\n",
    "library(bigmemory)\n",
    "# library(ffbase)\n",
    "memory.limit(size = 102400)\n",
    "memory.size()"
   ]
  },
  {
   "cell_type": "code",
   "execution_count": 11,
   "metadata": {},
   "outputs": [
    {
     "data": {
      "text/html": [
       "12623.43"
      ],
      "text/latex": [
       "12623.43"
      ],
      "text/markdown": [
       "12623.43"
      ],
      "text/plain": [
       "[1] 12623.43"
      ]
     },
     "metadata": {},
     "output_type": "display_data"
    },
    {
     "data": {
      "text/plain": [
       "2164936176 bytes"
      ]
     },
     "metadata": {},
     "output_type": "display_data"
    }
   ],
   "source": [
    "memory.size()\n",
    "object.size(train.set)"
   ]
  },
  {
   "cell_type": "code",
   "execution_count": 12,
   "metadata": {
    "scrolled": true
   },
   "outputs": [
    {
     "data": {
      "text/html": [
       "<table>\n",
       "<thead><tr><th></th><th scope=col>used</th><th scope=col>(Mb)</th><th scope=col>gc trigger</th><th scope=col>(Mb)</th><th scope=col>max used</th><th scope=col>(Mb)</th></tr></thead>\n",
       "<tbody>\n",
       "\t<tr><th scope=row>Ncells</th><td>  2250193 </td><td> 120.2    </td><td>   7406240</td><td>  395.6   </td><td>  10914286</td><td>  582.9   </td></tr>\n",
       "\t<tr><th scope=row>Vcells</th><td>277993769 </td><td>2121.0    </td><td>2081147027</td><td>15877.9   </td><td>1875187080</td><td>14306.6   </td></tr>\n",
       "</tbody>\n",
       "</table>\n"
      ],
      "text/latex": [
       "\\begin{tabular}{r|llllll}\n",
       "  & used & (Mb) & gc trigger & (Mb) & max used & (Mb)\\\\\n",
       "\\hline\n",
       "\tNcells &   2250193  &  120.2     &    7406240 &   395.6    &   10914286 &   582.9   \\\\\n",
       "\tVcells & 277993769  & 2121.0     & 2081147027 & 15877.9    & 1875187080 & 14306.6   \\\\\n",
       "\\end{tabular}\n"
      ],
      "text/markdown": [
       "\n",
       "| <!--/--> | used | (Mb) | gc trigger | (Mb) | max used | (Mb) | \n",
       "|---|---|\n",
       "| Ncells |   2250193  |  120.2     |    7406240 |   395.6    |   10914286 |   582.9    | \n",
       "| Vcells | 277993769  | 2121.0     | 2081147027 | 15877.9    | 1875187080 | 14306.6    | \n",
       "\n",
       "\n"
      ],
      "text/plain": [
       "       used      (Mb)   gc trigger (Mb)    max used   (Mb)   \n",
       "Ncells   2250193  120.2    7406240   395.6   10914286   582.9\n",
       "Vcells 277993769 2121.0 2081147027 15877.9 1875187080 14306.6"
      ]
     },
     "metadata": {},
     "output_type": "display_data"
    }
   ],
   "source": [
    "gc()"
   ]
  },
  {
   "cell_type": "code",
   "execution_count": 2,
   "metadata": {},
   "outputs": [],
   "source": [
    "# read training label which has pre-processed in python\n",
    "label <- read.csv(\"label.csv\")\n",
    "label <- label[,2]"
   ]
  },
  {
   "cell_type": "code",
   "execution_count": 3,
   "metadata": {
    "scrolled": true
   },
   "outputs": [
    {
     "data": {
      "text/plain": [
       "[1] \"2018-10-25 13:59:31 AEDT\""
      ]
     },
     "metadata": {},
     "output_type": "display_data"
    },
    {
     "data": {
      "text/html": [
       "<table>\n",
       "<thead><tr><th></th><th scope=col>label</th><th scope=col>aap</th><th scope=col>aaron</th><th scope=col>abandoned</th><th scope=col>abbott</th><th scope=col>abc</th><th scope=col>ability</th><th scope=col>able</th><th scope=col>aboriginal</th><th scope=col>absence</th><th scope=col>...</th><th scope=col>young</th><th scope=col>younger</th><th scope=col>youngest</th><th scope=col>youth</th><th scope=col>zealand</th><th scope=col>zero</th><th scope=col>zimbabwe</th><th scope=col>zone</th><th scope=col>zones</th><th scope=col>zoo</th></tr></thead>\n",
       "<tbody>\n",
       "\t<tr><th scope=row>76737</th><td>17        </td><td>0         </td><td>0         </td><td>0         </td><td>0         </td><td>0         </td><td>0         </td><td>0         </td><td>0         </td><td>0         </td><td>...       </td><td>0         </td><td>0         </td><td>0         </td><td>0         </td><td>0.00000000</td><td>0         </td><td>0         </td><td>0         </td><td>0         </td><td>0         </td></tr>\n",
       "\t<tr><th scope=row>93221</th><td>21        </td><td>0         </td><td>0         </td><td>0         </td><td>0         </td><td>0         </td><td>0         </td><td>0         </td><td>0         </td><td>0         </td><td>...       </td><td>0         </td><td>0         </td><td>0         </td><td>0         </td><td>0.00000000</td><td>0         </td><td>0         </td><td>0         </td><td>0         </td><td>0         </td></tr>\n",
       "\t<tr><th scope=row>81002</th><td>18        </td><td>0         </td><td>0         </td><td>0         </td><td>0         </td><td>0         </td><td>0         </td><td>0         </td><td>0         </td><td>0         </td><td>...       </td><td>0         </td><td>0         </td><td>0         </td><td>0         </td><td>0.00000000</td><td>0         </td><td>0         </td><td>0         </td><td>0         </td><td>0         </td></tr>\n",
       "\t<tr><th scope=row>94321</th><td>21        </td><td>0         </td><td>0         </td><td>0         </td><td>0         </td><td>0         </td><td>0         </td><td>0         </td><td>0         </td><td>0         </td><td>...       </td><td>0         </td><td>0         </td><td>0         </td><td>0         </td><td>0.07890039</td><td>0         </td><td>0         </td><td>0         </td><td>0         </td><td>0         </td></tr>\n",
       "\t<tr><th scope=row>48589</th><td>11        </td><td>0         </td><td>0         </td><td>0         </td><td>0         </td><td>0         </td><td>0         </td><td>0         </td><td>0         </td><td>0         </td><td>...       </td><td>0         </td><td>0         </td><td>0         </td><td>0         </td><td>0.00000000</td><td>0         </td><td>0         </td><td>0         </td><td>0         </td><td>0         </td></tr>\n",
       "\t<tr><th scope=row>17709</th><td> 4        </td><td>0         </td><td>0         </td><td>0         </td><td>0         </td><td>0         </td><td>0         </td><td>0         </td><td>0         </td><td>0         </td><td>...       </td><td>0         </td><td>0         </td><td>0         </td><td>0         </td><td>0.00000000</td><td>0         </td><td>0         </td><td>0         </td><td>0         </td><td>0         </td></tr>\n",
       "</tbody>\n",
       "</table>\n"
      ],
      "text/latex": [
       "\\begin{tabular}{r|lllllllllllllllllllllllllllllllllllllllllllllllllllllllllllllllllllllllllllllllllllllllllllllllllllllllllllllllllllllllllllllllllllllllllllllllllllllllllllllllllllllllllllllllllllllllllllllllllllllllllllllllllllllllllllllllllllllllllllllllllllllllllllllllllllllllllllllllllllllllllllllllllllllllllllllllllllllllllllllllllllllllllllllllllllllllllllllllllllllllllllllllllllllllllllllllllllllllllllllllllllllllllllllllllllllllllllllllllllllllllllllllllllllllllllllllllllllllllllllllllllllllllllllllllllllllllllllllllllllllllllllllllllllllllllllllllllllllllllllllllllllllllllllllllllllllllllllllllllllllllllllllllllllllllllllllllllllllllllllllllllllllllllllllllllllllllllllllllllllllllllllllllllllllllllllllllllllllllllllllllllllllllllllllllllllllllllllllllllllllllllllllllllllllllllllllllllllllllllllllllllllllllllllllllllllllllllllllllllllllllllllllllllllllllllllllllllllllllllllllllllllllllllllllllllllllllllllllllllllllllllllllllllllllllllllllllllllllllllllllllllllllllllllllllllllllllllllllllllllllllllllllllllllllllllllllllllllllllllllllllllllllllllllllllllllllllllllllllllllllllllllllllllllllllllllllllllllllllllllllllllllllllllllllllllllllllllllllllllllllllllllllllllllllllllllllllllllllllllllllllllllllllllllllllllllllllllllllllllllllllllllllllllllllllllllllllllllllllllllllllllllllllllllllllllllllllllllllllllllllllllllllllllllllllllllllllllllllllllllllllllllllllllllllllllllllllllllllllllllllllllllllllllllllllllllllllllllllllllllllllllllllllllllllllllllllllllllllllllllllllllllllllllllllllllllllllllllllllllllllllllllllllllllllllllllllllllllllllllllllllllllllllllllllllllllllllllllllllllllllllllllllllllllllllllllllllllllllllllllllllllllllllllllllllllllllllllllllllllllllllllllllllllllllllllllllllllllllllllllllllllllllllllllllllllllllllllllllllllllllllllllllllllllllllllllllllllllllllllllllllllllllllllllllllllllllllllllllllllllllllllllllllllllllllllllllllllllllllllllllllllllllllllllllllllllllllllllllllllllllllllllllllllllllllllllllllllllllllllllllllllllllllllllllllllllllllllllllllllllllllllllllllllllllllllllllllllllllllllllllllllllllllllllllllllllllllllllllllllllllllllllllllllllllllllllllllllllllllllllllllllllllllllllllllllllllllllllllllllllllllllllllllllllllllllllllllllllllllllllllllllllllllllllllllllllllllllllllllllllllllllllllllllllllllllllllllllllllllllllllllllllllllllllllllllllllllllllllllllllllllllllllllllllllllllllllllllllllllllllllllllllllllllllllllllllllllllllllllllllllllllllllllllllllllllllllllllllllllllllllllllllllllllllllllllllllllllllllllllllllllllllllllllllllllllllllllllllllllllllllllllllllllllllllllllllllllllllllllllllllllllllllllllllllllllllllllllllllllllllllllllllllllllllllllllllllllllllllllllllllllllllllllllllllllllllllllllllllllllllllllllllllllllllllllllllllllllllllllllllllllllllllllllllllllllllllllllllllllllllllllllllllllllllllllllllllllllllllllllllllllllllllllllllllllllllllllllllllllllllllllllllllllllllllllllllllllllllllllllllllllllllllllllllllllllllllllllllllllllllllllllllllllllllllllllllllllllllllllllllllllllllllllllllllllllllllllllllllllllllllllllllllllllllllllllllllllllllllllllllllllllllllllllllllllllllllllllllllllllllllllllllllllllllllllllllllllllllllllllllllllllllllllllllllllllllllllllllllllllllllllllllllllllllllllllllllllllllllllllllllllllllllllllllllllllllllllllllllllllllllllllllllllllllllllllllllllllllllllllllllllllllllllllllllllllllllllllllllllllllllllllllllllllllllllllllllllllllllllllllllllllllllllllllllllllllllllllllllllllllllllllllllllllllllllllllllllllllllllllllllllllllllllllllllllllllllllllllllllllllllllllllllllllllllllllllllllllllllllllllllllllllllllllllllllllllllllllllllllllllllllllllllllllllllllllllllllllllllllllllllllllllllllllllllllllllllllllllllllllllllllllllllllllllllllllllllllllllllllllllllllllllllllllllllllllllllllllllllllllllllllllllllllllllllllllllllllllllllllllllllllllllllllllllllllllllllllllllllllllllllllllllllllllllllllllllllllllllllllllllllllllllllllllllllllllllllllllllllllllllllllllllllllllllllllllllllllllllllllllllllllllllllllllllllllllllllllllllllllllllllllllllllllllllllllllllllllllllllllllllllllllllllllllllllllllllllllllllllllllllllllllllllllllllllllllllllllllllllllllllllllllllllllllllllllllllllllllllllllllllllllllllllllllllllllllllllllllllllllllllllllllllllllllllllllllllllllllllllllllllllllllllllllllllllllllllllllllllllllllllllllllllllllllllllllllllllllllllllllllllllllllllllllllllllllllllllllllllllllllllllllllllllllllllllllllllllllllllllllllllllllllllllllllllllllllllllllllllllllllllllllllllllllllllllllllllllllllllllllllllllllllllllllllllllllllllllllllllllllllllllllllllllllllllllllllllllllllllllllllllllllllllllllllllllllllllll}\n",
       "  & label & aap & aaron & abandoned & abbott & abc & ability & able & aboriginal & absence & ... & young & younger & youngest & youth & zealand & zero & zimbabwe & zone & zones & zoo\\\\\n",
       "\\hline\n",
       "\t76737 & 17         & 0          & 0          & 0          & 0          & 0          & 0          & 0          & 0          & 0          & ...        & 0          & 0          & 0          & 0          & 0.00000000 & 0          & 0          & 0          & 0          & 0         \\\\\n",
       "\t93221 & 21         & 0          & 0          & 0          & 0          & 0          & 0          & 0          & 0          & 0          & ...        & 0          & 0          & 0          & 0          & 0.00000000 & 0          & 0          & 0          & 0          & 0         \\\\\n",
       "\t81002 & 18         & 0          & 0          & 0          & 0          & 0          & 0          & 0          & 0          & 0          & ...        & 0          & 0          & 0          & 0          & 0.00000000 & 0          & 0          & 0          & 0          & 0         \\\\\n",
       "\t94321 & 21         & 0          & 0          & 0          & 0          & 0          & 0          & 0          & 0          & 0          & ...        & 0          & 0          & 0          & 0          & 0.07890039 & 0          & 0          & 0          & 0          & 0         \\\\\n",
       "\t48589 & 11         & 0          & 0          & 0          & 0          & 0          & 0          & 0          & 0          & 0          & ...        & 0          & 0          & 0          & 0          & 0.00000000 & 0          & 0          & 0          & 0          & 0         \\\\\n",
       "\t17709 &  4         & 0          & 0          & 0          & 0          & 0          & 0          & 0          & 0          & 0          & ...        & 0          & 0          & 0          & 0          & 0.00000000 & 0          & 0          & 0          & 0          & 0         \\\\\n",
       "\\end{tabular}\n"
      ],
      "text/markdown": [
       "\n",
       "| <!--/--> | label | aap | aaron | abandoned | abbott | abc | ability | able | aboriginal | absence | ... | young | younger | youngest | youth | zealand | zero | zimbabwe | zone | zones | zoo | \n",
       "|---|---|---|---|---|---|\n",
       "| 76737 | 17         | 0          | 0          | 0          | 0          | 0          | 0          | 0          | 0          | 0          | ...        | 0          | 0          | 0          | 0          | 0.00000000 | 0          | 0          | 0          | 0          | 0          | \n",
       "| 93221 | 21         | 0          | 0          | 0          | 0          | 0          | 0          | 0          | 0          | 0          | ...        | 0          | 0          | 0          | 0          | 0.00000000 | 0          | 0          | 0          | 0          | 0          | \n",
       "| 81002 | 18         | 0          | 0          | 0          | 0          | 0          | 0          | 0          | 0          | 0          | ...        | 0          | 0          | 0          | 0          | 0.00000000 | 0          | 0          | 0          | 0          | 0          | \n",
       "| 94321 | 21         | 0          | 0          | 0          | 0          | 0          | 0          | 0          | 0          | 0          | ...        | 0          | 0          | 0          | 0          | 0.07890039 | 0          | 0          | 0          | 0          | 0          | \n",
       "| 48589 | 11         | 0          | 0          | 0          | 0          | 0          | 0          | 0          | 0          | 0          | ...        | 0          | 0          | 0          | 0          | 0.00000000 | 0          | 0          | 0          | 0          | 0          | \n",
       "| 17709 |  4         | 0          | 0          | 0          | 0          | 0          | 0          | 0          | 0          | 0          | ...        | 0          | 0          | 0          | 0          | 0.00000000 | 0          | 0          | 0          | 0          | 0          | \n",
       "\n",
       "\n"
      ],
      "text/plain": [
       "      label aap aaron abandoned abbott abc ability able aboriginal absence ...\n",
       "76737 17    0   0     0         0      0   0       0    0          0       ...\n",
       "93221 21    0   0     0         0      0   0       0    0          0       ...\n",
       "81002 18    0   0     0         0      0   0       0    0          0       ...\n",
       "94321 21    0   0     0         0      0   0       0    0          0       ...\n",
       "48589 11    0   0     0         0      0   0       0    0          0       ...\n",
       "17709  4    0   0     0         0      0   0       0    0          0       ...\n",
       "      young younger youngest youth zealand    zero zimbabwe zone zones zoo\n",
       "76737 0     0       0        0     0.00000000 0    0        0    0     0  \n",
       "93221 0     0       0        0     0.00000000 0    0        0    0     0  \n",
       "81002 0     0       0        0     0.00000000 0    0        0    0     0  \n",
       "94321 0     0       0        0     0.07890039 0    0        0    0     0  \n",
       "48589 0     0       0        0     0.00000000 0    0        0    0     0  \n",
       "17709 0     0       0        0     0.00000000 0    0        0    0     0  "
      ]
     },
     "metadata": {},
     "output_type": "display_data"
    },
    {
     "data": {
      "text/plain": [
       "[1] \"2018-10-25 14:04:18 AEDT\""
      ]
     },
     "metadata": {},
     "output_type": "display_data"
    }
   ],
   "source": [
    "Sys.time()\n",
    "# read training data feature which generate from python\n",
    "# train.file <- 'C:/Users/XiaoFan/Desktop/5149/A2/newtfidf.csv';\n",
    "train.set <- read.table(\"newtfidf.csv\", header = T, sep = \",\")\n",
    "# add label\n",
    "train.set <- cbind(label, train.set)\n",
    "# #shuffle the dataset\n",
    "set.seed(12345)\n",
    "train.index <- sample(1:106445, 106445, replace = FALSE)\n",
    "train.set <- train.set[train.index, ]\n",
    "\n",
    "head(train.set)\n",
    "Sys.time()"
   ]
  },
  {
   "cell_type": "markdown",
   "metadata": {},
   "source": [
    "### Training model"
   ]
  },
  {
   "cell_type": "code",
   "execution_count": 4,
   "metadata": {},
   "outputs": [
    {
     "data": {
      "text/plain": [
       "[1] \"2018-10-25 14:05:09 AEDT\""
      ]
     },
     "metadata": {},
     "output_type": "display_data"
    },
    {
     "data": {
      "text/plain": [
       "[1] \"2018-10-25 15:49:41 AEDT\""
      ]
     },
     "metadata": {},
     "output_type": "display_data"
    }
   ],
   "source": [
    "Sys.time()\n",
    "# svm model\n",
    "sv <- svm(x = train.set[1:10000, -1],\n",
    "          y = train.set[1:10000, 1], \n",
    "          scale = TRUE,\n",
    "          type =\"C-classification\",\n",
    "          kernel = \"linear\",\n",
    "          cost = 0.001, cross = 5)\n",
    "Sys.time()"
   ]
  },
  {
   "cell_type": "code",
   "execution_count": 5,
   "metadata": {},
   "outputs": [
    {
     "data": {
      "text/plain": [
       "\n",
       "Call:\n",
       "svm.default(x = train.set[1:10000, -1], y = train.set[1:10000, 1], \n",
       "    scale = TRUE, type = \"C-classification\", kernel = \"linear\", cost = 0.001, \n",
       "    cross = 5)\n",
       "\n",
       "\n",
       "Parameters:\n",
       "   SVM-Type:  C-classification \n",
       " SVM-Kernel:  linear \n",
       "       cost:  0.001 \n",
       "      gamma:  0.0002201673 \n",
       "\n",
       "Number of Support Vectors:  8422\n",
       "\n",
       " ( 358 299 355 305 495 354 246 389 381 376 202 400 353 279 398 361 297 480 427 424 438 435 370 )\n",
       "\n",
       "\n",
       "Number of Classes:  23 \n",
       "\n",
       "Levels: \n",
       " 1 2 3 4 5 6 7 8 9 10 11 12 13 14 15 16 17 18 19 20 21 22 23\n",
       "\n",
       "5-fold cross-validation on training data:\n",
       "\n",
       "Total Accuracy: 69.09 \n",
       "Single Accuracies:\n",
       " 68.15 69.8 68 69.6 69.9 \n",
       "\n",
       "\n"
      ]
     },
     "metadata": {},
     "output_type": "display_data"
    }
   ],
   "source": [
    "summary(sv)"
   ]
  },
  {
   "cell_type": "markdown",
   "metadata": {},
   "source": [
    "### Testing data preparation"
   ]
  },
  {
   "cell_type": "code",
   "execution_count": 8,
   "metadata": {},
   "outputs": [],
   "source": [
    "# read testing data feature which generate from python\n",
    "# test.file <- 'C:/Users/XiaoFan/Desktop/5149/A2/testtfidf.csv';\n",
    "test.data <- read.csv(\"testtfidf.csv\", header = T)\n",
    "test.data <- cbind(\"docid\" = rownames(test.data), test.data)\n"
   ]
  },
  {
   "cell_type": "markdown",
   "metadata": {},
   "source": [
    "### Predict test label"
   ]
  },
  {
   "cell_type": "code",
   "execution_count": null,
   "metadata": {},
   "outputs": [],
   "source": [
    "predict1 <- predict(object = sv, test.data[,-1])"
   ]
  },
  {
   "cell_type": "code",
   "execution_count": null,
   "metadata": {},
   "outputs": [],
   "source": [
    "df.pre = matrix(nrow = 26610, ncol = 1)\n",
    "for (i in c(1:26610)){\n",
    "    a = paste(\"te_doc_\", i,sep = \"\")\n",
    "    b = paste(\"C\", predict1[i],sep = \"\")\n",
    "    df.pre[i, 1] = paste(a, b)\n",
    "}"
   ]
  },
  {
   "cell_type": "code",
   "execution_count": null,
   "metadata": {},
   "outputs": [],
   "source": [
    "# write label data\n",
    "write.table(df, \"testing_labels_pred.txt\",quote =FALSE)"
   ]
  }
 ],
 "metadata": {
  "kernelspec": {
   "display_name": "R",
   "language": "R",
   "name": "ir"
  },
  "language_info": {
   "codemirror_mode": "r",
   "file_extension": ".r",
   "mimetype": "text/x-r-source",
   "name": "R",
   "pygments_lexer": "r",
   "version": "3.4.3"
  }
 },
 "nbformat": 4,
 "nbformat_minor": 2
}
